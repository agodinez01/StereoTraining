{
 "cells": [
  {
   "cell_type": "markdown",
   "metadata": {},
   "source": [
    "# Plot Dart Board Data with Errorbars\n",
    "Plots dart board data for each observer with the session date on the x-axis and stereo acuity on the y-axis. <br>\n",
    "There is a key legend for all dificulty levels (Yellow = 1, Orange = 2, Red = 3)"
   ]
  },
  {
   "cell_type": "code",
   "execution_count": 1,
   "metadata": {
    "collapsed": false
   },
   "outputs": [],
   "source": [
    "import matplotlib.pyplot as plt\n",
    "import datetime as dt\n",
    "import os\n",
    "import pandas as pd\n",
    "from scipy import stats\n",
    "import numpy as np"
   ]
  },
  {
   "cell_type": "markdown",
   "metadata": {},
   "source": [
    "### Get dates of sessions for an observer"
   ]
  },
  {
   "cell_type": "code",
   "execution_count": 2,
   "metadata": {
    "collapsed": false
   },
   "outputs": [],
   "source": [
    "# def get_dates(path):\n",
    "#     def concat_strs(x):\n",
    "#         date, time = x.replace('.', '_').split('_')[2:4]\n",
    "#         return date + ':' + time\n",
    "#     unformatted_dates = [concat_strs(x) for x in os.listdir(path)]\n",
    "#     return [dt.datetime.strptime(d,'%Y-%m-%d:%I-%M-%S-%p') for d in unformatted_dates]"
   ]
  },
  {
   "cell_type": "markdown",
   "metadata": {},
   "source": [
    "### Plot y values for an observer"
   ]
  },
  {
   "cell_type": "code",
   "execution_count": 3,
   "metadata": {
    "collapsed": true
   },
   "outputs": [],
   "source": [
    "def plot_yvals(path, x_ticks, colors):\n",
    "#     index = 0\n",
    "    labels = [\"Natural\", \"Advanced\", \"Expert\"]\n",
    "    vals = {\"Natural\":[], \"Advanced\":[], \"Expert\":[]}\n",
    "    for x in os.listdir(path):\n",
    "        df = pd.read_csv(path + x)\n",
    "#         offset = -0.2\n",
    "        for i in range(0, 3):\n",
    "            stereo_acuity = df.query('Difficulty == {}'.format(i + 1))[\"SA[seconds] dartboard hit\"]\n",
    "#             mean = np.mean(stereo_acuity)\n",
    "#             std_err_mean = stats.sem(stereo_acuity)\n",
    "            median = np.median(stereo_acuity)\n",
    "            vals[labels[i]].append(median)\n",
    "#             label = labels[i]\n",
    "#             plt.errorbar(x_ticks[index] + offset, mean, yerr=std_err_mean, color=colors[i], label=label, fmt='-o')\n",
    "#             plt.plot(x_ticks[index] + offset, median, '-o', color=colors[i], label=label, markersize=14)\n",
    "#             offset += 0.2\n",
    "#         index += 1\n",
    "#     offset = -0.2\n",
    "    index = 0\n",
    "    for key in labels:\n",
    "        plt.plot(x_ticks, vals[key], '-o', markersize=.4*len(x_ticks), label=key, color=colors[index], alpha=0.7)\n",
    "        index += 1\n",
    "#         offset += -.2"
   ]
  },
  {
   "cell_type": "markdown",
   "metadata": {},
   "source": [
    "### Navigate to the proper directory for each observer and plot"
   ]
  },
  {
   "cell_type": "code",
   "execution_count": 4,
   "metadata": {
    "collapsed": false,
    "scrolled": false
   },
   "outputs": [],
   "source": [
    "def plot_observers(obs_dir, sub_dir, group, result_dir):\n",
    "    for observer in os.listdir(obs_dir):\n",
    "        if len(observer) != 2 or observer not in group:\n",
    "            continue\n",
    "            \n",
    "        path = obs_dir + observer + sub_dir\n",
    "        if len(os.listdir(path)) < 1:\n",
    "            continue\n",
    "            \n",
    "            \n",
    "        fig = plt.figure()\n",
    "        x_axis = range(1, len(os.listdir(path)) + 1)\n",
    "        ax = fig.add_axes([.1, .2, len(x_axis)/10, len(x_axis)/10])\n",
    "        ax.set_ylabel('Stereo Acuity (seconds)', labelpad=20, fontsize=30)\n",
    "        ax.set_xlabel('Session Number', labelpad=20, fontsize=30)\n",
    "        \n",
    "        plt.xticks([x for x in range(len(x_axis))], x_axis)\n",
    "        ax.tick_params(axis='both', which='major', pad=15, labelsize=18)\n",
    "#         plt.gcf().autofmt_xdate()\n",
    "        \n",
    "        \n",
    "        # Colors according to [difficulty 1, difficulty 2, difficulty 3]\n",
    "        colors = ['blue', 'green', 'red']\n",
    "        plot_yvals(path, ax.get_xticks(), colors)\n",
    "        \n",
    "        \n",
    "        # Creating the legend for the figure\n",
    "        handles, labels = ax.get_legend_handles_labels()\n",
    "        for h in handles: h.set_linestyle(\"\")\n",
    "        ax.legend(handles[:3], labels[0:3], loc='upper right', fontsize=(.8*len(x_axis)))\n",
    "        for h in handles: h.set_linestyle(\"-\")\n",
    "\n",
    "        \n",
    "        # Save the figure\n",
    "        fig.savefig(result_dir + observer + '.pdf', bbox_inches='tight')\n",
    "        plt.close(fig)"
   ]
  },
  {
   "cell_type": "markdown",
   "metadata": {},
   "source": [
    "### Plot the Control observers"
   ]
  },
  {
   "cell_type": "code",
   "execution_count": 5,
   "metadata": {
    "collapsed": false
   },
   "outputs": [],
   "source": [
    "OBSERVER_DIRECTORY = \"../GameObservers/\"\n",
    "SUB_DIR = \"/DartBoard/\"\n",
    "RESULT_DIR = '../graphs/errorbar-results/control/'\n",
    "CONTROL = set(['ah', 'dd', 'ez', 'll', 'sm', 'sr'])\n",
    "\n",
    "plot_observers(OBSERVER_DIRECTORY, SUB_DIR, CONTROL, RESULT_DIR)"
   ]
  },
  {
   "cell_type": "markdown",
   "metadata": {},
   "source": [
    "### Plot the Experimental observers"
   ]
  },
  {
   "cell_type": "code",
   "execution_count": 6,
   "metadata": {
    "collapsed": false
   },
   "outputs": [],
   "source": [
    "EXPERIMENTAL = set(['bb', 'by', 'gn', 'gp', 'ni', 'et'])\n",
    "RESULT_DIR = '../graphs/errorbar-results/experimental/'\n",
    "\n",
    "plot_observers(OBSERVER_DIRECTORY, SUB_DIR, EXPERIMENTAL, RESULT_DIR)"
   ]
  },
  {
   "cell_type": "code",
   "execution_count": null,
   "metadata": {
    "collapsed": true
   },
   "outputs": [],
   "source": []
  }
 ],
 "metadata": {
  "kernelspec": {
   "display_name": "python3.5",
   "language": "python",
   "name": "python3.5"
  },
  "language_info": {
   "codemirror_mode": {
    "name": "ipython",
    "version": 3
   },
   "file_extension": ".py",
   "mimetype": "text/x-python",
   "name": "python",
   "nbconvert_exporter": "python",
   "pygments_lexer": "ipython3",
   "version": "3.5.3"
  }
 },
 "nbformat": 4,
 "nbformat_minor": 2
}
