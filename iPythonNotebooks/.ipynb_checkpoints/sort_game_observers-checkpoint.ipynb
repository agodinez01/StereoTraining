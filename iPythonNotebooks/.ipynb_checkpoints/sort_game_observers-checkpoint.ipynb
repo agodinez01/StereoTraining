{
 "cells": [
  {
   "cell_type": "markdown",
   "metadata": {},
   "source": [
    "# Sort Game Observers\n",
    "Makes copies of data in \"Oculus Data\" directory and copies to \"GameObservers\" directory. In \"GameObservers\", each observer has a folder with their initials, and in each there is a \"Halloween\" and \"DartBoard\" subdirectory."
   ]
  },
  {
   "cell_type": "code",
   "execution_count": 1,
   "metadata": {
    "collapsed": true
   },
   "outputs": [],
   "source": [
    "import os\n",
    "from shutil import copy"
   ]
  },
  {
   "cell_type": "code",
   "execution_count": 2,
   "metadata": {
    "collapsed": true
   },
   "outputs": [],
   "source": [
    "# Which folders to look through\n",
    "FOLDERS = [\"../Oculus Data/First10 Results (Sessions 1-10)/\", \n",
    "           \"../Oculus Data/Second10 Results (Sessions 11-20)/\",\n",
    "           \"../Oculus Data/Third 10 Results (Sessions 21-30)/\", \n",
    "           \"../Oculus Data/Fourth 10 Results (Sessions 31-40)/\", \n",
    "           \"../Oculus Data/Pilot Results/\"]\n",
    "\n",
    "# New path for data\n",
    "NEW_PATH = \"../GameObservers/\"\n",
    "HALLWN = \"/Halloween/\"\n",
    "DART = \"/DartBoard/\""
   ]
  },
  {
   "cell_type": "code",
   "execution_count": 3,
   "metadata": {
    "collapsed": false
   },
   "outputs": [],
   "source": [
    "for path in FOLDERS:\n",
    "    for obs in os.listdir(path):\n",
    "        if len(obs) > 2:\n",
    "            continue\n",
    "        new_hallwn = NEW_PATH + obs + HALLWN\n",
    "        new_dart = NEW_PATH + obs + DART\n",
    "        if not os.path.exists(new_hallwn):\n",
    "            os.makedirs(new_hallwn)\n",
    "        if not os.path.exists(new_dart):\n",
    "            os.makedirs(new_dart)\n",
    "        for file in os.listdir( path + obs):\n",
    "            if not file.endswith(\".csv\"):\n",
    "                continue\n",
    "            name = file.split(\"_\")[0]\n",
    "            curr = path + obs + \"/\" + file\n",
    "            if name == \"results\":\n",
    "                copy(curr, new_dart)\n",
    "            elif name == \"resultsHalloween\":\n",
    "                copy(curr, new_hallwn)"
   ]
  },
  {
   "cell_type": "code",
   "execution_count": null,
   "metadata": {
    "collapsed": true
   },
   "outputs": [],
   "source": []
  }
 ],
 "metadata": {
  "kernelspec": {
   "display_name": "python3.5",
   "language": "python",
   "name": "python3.5"
  },
  "language_info": {
   "codemirror_mode": {
    "name": "ipython",
    "version": 3
   },
   "file_extension": ".py",
   "mimetype": "text/x-python",
   "name": "python",
   "nbconvert_exporter": "python",
   "pygments_lexer": "ipython3",
   "version": "3.5.3"
  }
 },
 "nbformat": 4,
 "nbformat_minor": 2
}
