{
 "cells": [
  {
   "cell_type": "code",
   "execution_count": 1,
   "metadata": {
    "collapsed": false
   },
   "outputs": [],
   "source": [
    "import os\n",
    "import pandas as pd\n",
    "import statsmodels.api as sm\n",
    "import statsmodels.formula.api as smf"
   ]
  },
  {
   "cell_type": "code",
   "execution_count": 2,
   "metadata": {
    "collapsed": true
   },
   "outputs": [],
   "source": [
    "### all the determined variables\n",
    "main_dir = \"../GameObservers/\"\n",
    "sub_dir = \"/DartBoard/\"\n",
    "result_dir = \"../graphs/histogram/\"\n",
    "control = set(['ah', 'dd', 'ez', 'll', 'sm', 'sr'])\n",
    "exper = set(['bb', 'by', 'gn', 'gp', 'ni', 'et'])"
   ]
  },
  {
   "cell_type": "code",
   "execution_count": 3,
   "metadata": {
    "collapsed": false
   },
   "outputs": [],
   "source": [
    "def get_vals(obs_set, group):\n",
    "    dfs = []\n",
    "    for obs in obs_set:\n",
    "        path = main_dir + obs + sub_dir\n",
    "        for data in os.listdir(path):\n",
    "            if not data.endswith('.csv'):\n",
    "                continue\n",
    "            df = pd.read_csv(path + data)  \n",
    "            df = df.copy()\n",
    "            df['Group'] = group\n",
    "            dfs.append(df)\n",
    "    data = pd.concat(dfs)\n",
    "    data.rename(columns={'SA[seconds] dartboard hit':'StereoAcuity'}, inplace=True)\n",
    "    return data"
   ]
  },
  {
   "cell_type": "code",
   "execution_count": 4,
   "metadata": {
    "collapsed": true
   },
   "outputs": [],
   "source": [
    "def number2String(N):\n",
    "    if N == 1:\n",
    "        return \"natural\"\n",
    "    if N == 2:\n",
    "        return \"advanced\"\n",
    "    if N == 3:\n",
    "        return \"expert\""
   ]
  },
  {
   "cell_type": "code",
   "execution_count": 5,
   "metadata": {
    "collapsed": false
   },
   "outputs": [],
   "source": [
    "control_df = get_vals(control, \"Control\")\n",
    "exper_df = get_vals(exper, \"Experimental\")\n",
    "aggregate_df = pd.concat([control_df, exper_df])\n",
    "    \n",
    "aggregate_df[\"Difficulty_String\"] = [number2String(element) for element in aggregate_df.Difficulty]"
   ]
  },
  {
   "cell_type": "code",
   "execution_count": 7,
   "metadata": {
    "collapsed": false
   },
   "outputs": [
    {
     "data": {
      "text/html": [
       "<div>\n",
       "<table border=\"1\" class=\"dataframe\">\n",
       "  <thead>\n",
       "    <tr style=\"text-align: right;\">\n",
       "      <th></th>\n",
       "      <th>sum_sq</th>\n",
       "      <th>df</th>\n",
       "      <th>F</th>\n",
       "      <th>PR(&gt;F)</th>\n",
       "    </tr>\n",
       "  </thead>\n",
       "  <tbody>\n",
       "    <tr>\n",
       "      <th>Difficulty_String</th>\n",
       "      <td>1.404163e+07</td>\n",
       "      <td>2.0</td>\n",
       "      <td>144.946731</td>\n",
       "      <td>1.511751e-63</td>\n",
       "    </tr>\n",
       "    <tr>\n",
       "      <th>Group</th>\n",
       "      <td>3.892481e+08</td>\n",
       "      <td>1.0</td>\n",
       "      <td>8036.137785</td>\n",
       "      <td>0.000000e+00</td>\n",
       "    </tr>\n",
       "    <tr>\n",
       "      <th>Difficulty_String:Group</th>\n",
       "      <td>1.897232e+07</td>\n",
       "      <td>2.0</td>\n",
       "      <td>195.844496</td>\n",
       "      <td>1.517667e-85</td>\n",
       "    </tr>\n",
       "    <tr>\n",
       "      <th>Residual</th>\n",
       "      <td>3.415453e+09</td>\n",
       "      <td>70513.0</td>\n",
       "      <td>NaN</td>\n",
       "      <td>NaN</td>\n",
       "    </tr>\n",
       "  </tbody>\n",
       "</table>\n",
       "</div>"
      ],
      "text/plain": [
       "                               sum_sq       df            F        PR(>F)\n",
       "Difficulty_String        1.404163e+07      2.0   144.946731  1.511751e-63\n",
       "Group                    3.892481e+08      1.0  8036.137785  0.000000e+00\n",
       "Difficulty_String:Group  1.897232e+07      2.0   195.844496  1.517667e-85\n",
       "Residual                 3.415453e+09  70513.0          NaN           NaN"
      ]
     },
     "execution_count": 7,
     "metadata": {},
     "output_type": "execute_result"
    }
   ],
   "source": [
    "ols_lm = smf.ols('StereoAcuity ~ Difficulty_String*Group',data=aggregate_df)\n",
    "\n",
    "fit = ols_lm.fit()\n",
    "\n",
    "table = sm.stats.anova_lm(fit, typ=2)\n",
    "\n",
    "table"
   ]
  },
  {
   "cell_type": "code",
   "execution_count": null,
   "metadata": {
    "collapsed": true
   },
   "outputs": [],
   "source": []
  }
 ],
 "metadata": {
  "kernelspec": {
   "display_name": "Python 3",
   "language": "python",
   "name": "python3"
  },
  "language_info": {
   "codemirror_mode": {
    "name": "ipython",
    "version": 3
   },
   "file_extension": ".py",
   "mimetype": "text/x-python",
   "name": "python",
   "nbconvert_exporter": "python",
   "pygments_lexer": "ipython3",
   "version": "3.6.0"
  }
 },
 "nbformat": 4,
 "nbformat_minor": 2
}
