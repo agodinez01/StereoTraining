{
 "cells": [
  {
   "cell_type": "code",
   "execution_count": 2,
   "metadata": {},
   "outputs": [],
   "source": [
    "import os\n",
    "import pandas as pd\n",
    "import statsmodels.api as sm\n",
    "import statsmodels.formula.api as smf"
   ]
  },
  {
   "cell_type": "code",
   "execution_count": 3,
   "metadata": {},
   "outputs": [],
   "source": [
    "### all the determined variables\n",
    "main_dir = \"../GameObservers/\"\n",
    "sub_dir = \"/DartBoard/\"\n",
    "result_dir = \"../graphs/histogram/\"\n",
    "control = set(['ah', 'aj', 'dd', 'dl', 'ez', 'it', 'll', 'sh', 'sm', 'sr']) #10 stereo-normal\n",
    "exper = set(['bb', 'by', 'co', 'et', 'gn', 'gp', 'jz', 'kp', 'ky', 'mb', 'mg', 'ni', 'tp']) #13 stereo-anomalous"
   ]
  },
  {
   "cell_type": "code",
   "execution_count": 4,
   "metadata": {},
   "outputs": [],
   "source": [
    "def get_vals(obs_set, group):\n",
    "    dfs = []\n",
    "    for obs in obs_set:\n",
    "        path = main_dir + obs + sub_dir\n",
    "        for data in os.listdir(path):\n",
    "            if not data.endswith('.csv'):\n",
    "                continue\n",
    "            df = pd.read_csv(path + data)  \n",
    "            df = df.copy()\n",
    "            df['Group'] = group\n",
    "            dfs.append(df)\n",
    "    data = pd.concat(dfs)\n",
    "    data.rename(columns={'SA[seconds] dartboard hit':'StereoAcuity'}, inplace=True)\n",
    "    return data"
   ]
  },
  {
   "cell_type": "code",
   "execution_count": 5,
   "metadata": {},
   "outputs": [],
   "source": [
    "def number2String(N):\n",
    "    if N == 1:\n",
    "        return \"natural\"\n",
    "    if N == 2:\n",
    "        return \"advanced\"\n",
    "    if N == 3:\n",
    "        return \"expert\""
   ]
  },
  {
   "cell_type": "code",
   "execution_count": 6,
   "metadata": {},
   "outputs": [
    {
     "name": "stderr",
     "output_type": "stream",
     "text": [
      "C:\\Users\\angie\\Anaconda3\\lib\\site-packages\\ipykernel_launcher.py:12: FutureWarning: Sorting because non-concatenation axis is not aligned. A future version\n",
      "of pandas will change to not sort by default.\n",
      "\n",
      "To accept the future behavior, pass 'sort=False'.\n",
      "\n",
      "To retain the current behavior and silence the warning, pass 'sort=True'.\n",
      "\n",
      "  if sys.path[0] == '':\n"
     ]
    }
   ],
   "source": [
    "control_df = get_vals(control, \"Control\")\n",
    "exper_df = get_vals(exper, \"Experimental\")\n",
    "aggregate_df = pd.concat([control_df, exper_df])\n",
    "    \n",
    "aggregate_df[\"Difficulty_String\"] = [number2String(element) for element in aggregate_df.Difficulty]"
   ]
  },
  {
   "cell_type": "code",
   "execution_count": 7,
   "metadata": {},
   "outputs": [
    {
     "data": {
      "text/html": [
       "<div>\n",
       "<style scoped>\n",
       "    .dataframe tbody tr th:only-of-type {\n",
       "        vertical-align: middle;\n",
       "    }\n",
       "\n",
       "    .dataframe tbody tr th {\n",
       "        vertical-align: top;\n",
       "    }\n",
       "\n",
       "    .dataframe thead th {\n",
       "        text-align: right;\n",
       "    }\n",
       "</style>\n",
       "<table border=\"1\" class=\"dataframe\">\n",
       "  <thead>\n",
       "    <tr style=\"text-align: right;\">\n",
       "      <th></th>\n",
       "      <th>sum_sq</th>\n",
       "      <th>df</th>\n",
       "      <th>F</th>\n",
       "      <th>PR(&gt;F)</th>\n",
       "    </tr>\n",
       "  </thead>\n",
       "  <tbody>\n",
       "    <tr>\n",
       "      <th>Difficulty_String</th>\n",
       "      <td>3.852386e+07</td>\n",
       "      <td>2.0</td>\n",
       "      <td>409.321997</td>\n",
       "      <td>5.720305e-178</td>\n",
       "    </tr>\n",
       "    <tr>\n",
       "      <th>Group</th>\n",
       "      <td>2.141848e+08</td>\n",
       "      <td>1.0</td>\n",
       "      <td>4551.493243</td>\n",
       "      <td>0.000000e+00</td>\n",
       "    </tr>\n",
       "    <tr>\n",
       "      <th>Difficulty_String:Group</th>\n",
       "      <td>1.685433e+07</td>\n",
       "      <td>2.0</td>\n",
       "      <td>179.079823</td>\n",
       "      <td>2.123659e-78</td>\n",
       "    </tr>\n",
       "    <tr>\n",
       "      <th>Residual</th>\n",
       "      <td>6.512611e+09</td>\n",
       "      <td>138395.0</td>\n",
       "      <td>NaN</td>\n",
       "      <td>NaN</td>\n",
       "    </tr>\n",
       "  </tbody>\n",
       "</table>\n",
       "</div>"
      ],
      "text/plain": [
       "                               sum_sq        df            F         PR(>F)\n",
       "Difficulty_String        3.852386e+07       2.0   409.321997  5.720305e-178\n",
       "Group                    2.141848e+08       1.0  4551.493243   0.000000e+00\n",
       "Difficulty_String:Group  1.685433e+07       2.0   179.079823   2.123659e-78\n",
       "Residual                 6.512611e+09  138395.0          NaN            NaN"
      ]
     },
     "execution_count": 7,
     "metadata": {},
     "output_type": "execute_result"
    }
   ],
   "source": [
    "ols_lm = smf.ols('StereoAcuity ~ Difficulty_String*Group',data=aggregate_df)\n",
    "\n",
    "fit = ols_lm.fit()\n",
    "\n",
    "table = sm.stats.anova_lm(fit, typ=2)\n",
    "\n",
    "table"
   ]
  },
  {
   "cell_type": "code",
   "execution_count": null,
   "metadata": {
    "collapsed": true
   },
   "outputs": [],
   "source": []
  }
 ],
 "metadata": {
  "kernelspec": {
   "display_name": "Python 3",
   "language": "python",
   "name": "python3"
  },
  "language_info": {
   "codemirror_mode": {
    "name": "ipython",
    "version": 3
   },
   "file_extension": ".py",
   "mimetype": "text/x-python",
   "name": "python",
   "nbconvert_exporter": "python",
   "pygments_lexer": "ipython3",
   "version": "3.6.8"
  }
 },
 "nbformat": 4,
 "nbformat_minor": 2
}
