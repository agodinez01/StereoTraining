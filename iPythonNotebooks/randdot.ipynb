{
 "cells": [
  {
   "cell_type": "code",
   "execution_count": null,
   "metadata": {},
   "outputs": [],
   "source": [
    "import os\n",
    "import pandas as pd\n",
    "import matplotlib\n",
    "import matplotlib.pyplot as plt\n",
    "from datetime import datetime as dt\n",
    "import numpy as np"
   ]
  },
  {
   "cell_type": "code",
   "execution_count": 33,
   "metadata": {
    "collapsed": true
   },
   "outputs": [],
   "source": [
    "### all the determined variables\n",
    "jrds_dir = \"../resultsJRDS/rds-results.csv\"\n",
    "result_dir = \"../graphs/randdot/randdot.pdf\"\n",
    "control = (('ah', 'k'), ('dd', 'k'), ('ez', 'k'), ('it', 'k'), ('ll', 'k'), ('sh', 'k'), ('sm', 'k'), ('sr', 'k'))\n",
    "exper = (('bb','b'), ('by','g'), ('gn','r'), ('gp','c'), ('jz', 'b'), ('mb', 'g'), ('ni','m'), ('et','y'))"
   ]
  },
  {
   "cell_type": "code",
   "execution_count": 34,
   "metadata": {},
   "outputs": [],
   "source": [
    "def plot_obs(obs_set, facecolor):\n",
    "    result = []\n",
    "    df = pd.read_csv(jrds_dir)\n",
    "    for obs, color in obs_set:\n",
    "        for size, marker in [('Small', 'o'), ('Middle', 'v'), ('Big', 's')]:\n",
    "\n",
    "            curr_df = df[(df['Initials'] == obs) & (df[\"Condition\"] == size)]\n",
    "            dates = {dt.strptime(x, '%d-%b-%Y'):x for x in curr_df['Date']}\n",
    "            \n",
    "            first_date = dates[min(dates)]\n",
    "            last_date = dates[max(dates)]\n",
    "            \n",
    "            first = curr_df[curr_df['Date'] == first_date]['Threshold'].iloc[0]\n",
    "            last = curr_df[curr_df['Date'] == last_date]['Threshold'].iloc[0]\n",
    "#             print(obs)\n",
    "#             print(size)\n",
    "#             print(first_date)\n",
    "#             print(last_date)\n",
    "#             print(first)\n",
    "#             print(last)\n",
    "            if facecolor:\n",
    "                plt.plot(first, last, color=color, marker=marker, label=size, linestyle='None', markerfacecolor=color,\n",
    "                markeredgecolor=color, markersize=10, alpha=0.5)\n",
    "            else:\n",
    "                plt.plot(first, last, color=color, marker=marker, label=size, linestyle='None', markerfacecolor='none',\n",
    "                markeredgecolor=color, markersize=10, alpha=0.5)"
   ]
  },
  {
   "cell_type": "code",
   "execution_count": 35,
   "metadata": {},
   "outputs": [],
   "source": [
    "def plot_randdot():\n",
    "    data_dir = '../resultsJRDS/randdot.csv'\n",
    "    df = pd.read_csv(data_dir)\n",
    "    cols = df.columns.tolist()[1:]\n",
    "    for obs, color in exper:\n",
    "        obs = obs.upper()\n",
    "        curr_df = df[df['Observer'] == obs]\n",
    "        first = get_first_num(cols, curr_df)\n",
    "        last = get_first_num(reversed(cols), curr_df)\n",
    "        if first != None and last != None:\n",
    "            plt.plot(first, last, color=color, marker='D', label='Rand dot', linestyle='None', markersize=10, alpha=0.5)\n",
    "                \n",
    "#             if (np.issubdtype(curr_df[c].dtype, np.number):\n",
    "#                 print(curr_df[c].item() > 0)\n",
    "#             print(np.issubdtype(curr_df[c].dtype, np.number) and not curr_df[c].isnull())"
   ]
  },
  {
   "cell_type": "code",
   "execution_count": 36,
   "metadata": {
    "collapsed": true
   },
   "outputs": [],
   "source": [
    "def get_first_num(cols, curr_df):\n",
    "    for c in cols:\n",
    "        if pd.isnull(curr_df[c].item()):\n",
    "            continue\n",
    "        if not curr_df[c].dtype == np.float64 or curr_df[c].dtype == np.int64:\n",
    "            continue\n",
    "        return curr_df[c].iloc[0]"
   ]
  },
  {
   "cell_type": "code",
   "execution_count": 37,
   "metadata": {},
   "outputs": [],
   "source": [
    "fig = plt.figure(figsize=(10,10))\n",
    "ax = plt.gca()\n",
    "ax.set_xscale('log')\n",
    "ax.set_yscale('log')\n",
    "ax.set_ylabel('Post Test', fontsize=25)\n",
    "ax.set_xlabel('Pre Test', fontsize=25)\n",
    "\n",
    "plot_randdot()\n",
    "plot_obs(exper, True)\n",
    "plot_obs(control, False)\n",
    "\n",
    "# one to one line\n",
    "x = np.linspace(*ax.get_xlim())\n",
    "plt.plot(x, x)\n",
    "\n",
    "ax.set_xticks([20, 200, 2000])\n",
    "ax.set_yticks([20, 200, 2000])\n",
    "ax.get_xaxis().set_major_formatter(matplotlib.ticker.ScalarFormatter())\n",
    "ax.get_yaxis().set_major_formatter(matplotlib.ticker.ScalarFormatter())\n",
    "\n",
    "# Creating the legend for the figure\n",
    "handles, labels = ax.get_legend_handles_labels()\n",
    "ax.legend([handles[0]] + handles[len(exper) - 1:][:3], [labels[0]] + labels[len(exper) - 1:], loc='upper left', fontsize=18)\n",
    "        \n",
    "fig.savefig(result_dir, bbox_inches='tight', format='pdf', dpi=1000)\n",
    "plt.close()"
   ]
  },
  {
   "cell_type": "markdown",
   "metadata": {
    "collapsed": true
   },
   "source": []
  },
  {
   "cell_type": "code",
   "execution_count": null,
   "metadata": {
    "collapsed": true
   },
   "outputs": [],
   "source": []
  }
 ],
 "metadata": {
  "kernelspec": {
   "display_name": "Python 3",
   "language": "python",
   "name": "python3"
  },
  "language_info": {
   "codemirror_mode": {
    "name": "ipython",
    "version": 3
   },
   "file_extension": ".py",
   "mimetype": "text/x-python",
   "name": "python",
   "nbconvert_exporter": "python",
   "pygments_lexer": "ipython3",
   "version": "3.6.8"
  }
 },
 "nbformat": 4,
 "nbformat_minor": 2
}
