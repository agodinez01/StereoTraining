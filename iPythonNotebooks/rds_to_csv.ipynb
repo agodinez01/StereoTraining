{
 "cells": [
  {
   "cell_type": "markdown",
   "metadata": {},
   "source": [
    "# RDS to CSV\n",
    "• This imports data from a '.mat' file and performs VR analysis. <br>\n",
    "• Runs data from 'data_rds' folder through 'analyzeJRDS' and saves to 'rds-results.csv' <br>\n",
    "This program may take a while because Matlab has to plot each file to analyze, which is suppressed with \"-nodisplay\""
   ]
  },
  {
   "cell_type": "code",
   "execution_count": 2,
   "metadata": {},
   "outputs": [
    {
     "ename": "ModuleNotFoundError",
     "evalue": "No module named 'matlab'",
     "traceback": [
      "\u001b[1;31m---------------------------------------------------------------------------\u001b[0m",
      "\u001b[1;31mModuleNotFoundError\u001b[0m                       Traceback (most recent call last)",
      "\u001b[1;32m<ipython-input-2-bab964c074e4>\u001b[0m in \u001b[0;36m<module>\u001b[1;34m\u001b[0m\n\u001b[0;32m      1\u001b[0m \u001b[1;32mimport\u001b[0m \u001b[0mos\u001b[0m\u001b[1;33m\u001b[0m\u001b[1;33m\u001b[0m\u001b[0m\n\u001b[1;32m----> 2\u001b[1;33m \u001b[1;32mimport\u001b[0m \u001b[0mmatlab\u001b[0m\u001b[1;33m.\u001b[0m\u001b[0mengine\u001b[0m\u001b[1;33m\u001b[0m\u001b[1;33m\u001b[0m\u001b[0m\n\u001b[0m\u001b[0;32m      3\u001b[0m \u001b[1;31m##from matlab import engine\u001b[0m\u001b[1;33m\u001b[0m\u001b[1;33m\u001b[0m\u001b[1;33m\u001b[0m\u001b[0m\n\u001b[0;32m      4\u001b[0m \u001b[1;31m#import matlab.engine as eng\u001b[0m\u001b[1;33m\u001b[0m\u001b[1;33m\u001b[0m\u001b[1;33m\u001b[0m\u001b[0m\n\u001b[0;32m      5\u001b[0m \u001b[1;32mimport\u001b[0m \u001b[0mcsv\u001b[0m\u001b[1;33m\u001b[0m\u001b[1;33m\u001b[0m\u001b[0m\n",
      "\u001b[1;31mModuleNotFoundError\u001b[0m: No module named 'matlab'"
     ],
     "output_type": "error"
    }
   ],
   "source": [
    "import os\n",
    "import matlab.engine\n",
    "##from matlab import engine\n",
    "#import matlab.engine as eng\n",
    "import csv\n",
    "from IPython.display import clear_output"
   ]
  },
  {
   "cell_type": "code",
   "execution_count": 6,
   "metadata": {},
   "outputs": [
    {
     "ename": "AttributeError",
     "evalue": "module 'matlab' has no attribute 'start_matlab'",
     "traceback": [
      "\u001b[1;31m---------------------------------------------------------------------------\u001b[0m",
      "\u001b[1;31mAttributeError\u001b[0m                            Traceback (most recent call last)",
      "\u001b[1;32m<ipython-input-6-ebb884e1f087>\u001b[0m in \u001b[0;36m<module>\u001b[1;34m\u001b[0m\n\u001b[0;32m      2\u001b[0m \u001b[1;31m# e.g. initials_condition_test_date_extra.mat\u001b[0m\u001b[1;33m\u001b[0m\u001b[1;33m\u001b[0m\u001b[1;33m\u001b[0m\u001b[0m\n\u001b[0;32m      3\u001b[0m \u001b[1;33m\u001b[0m\u001b[0m\n\u001b[1;32m----> 4\u001b[1;33m \u001b[0meng\u001b[0m \u001b[1;33m=\u001b[0m \u001b[0mmatlab\u001b[0m\u001b[1;33m.\u001b[0m\u001b[0mstart_matlab\u001b[0m\u001b[1;33m(\u001b[0m\u001b[1;34m\"-nodisplay\"\u001b[0m\u001b[1;33m)\u001b[0m\u001b[1;33m\u001b[0m\u001b[1;33m\u001b[0m\u001b[0m\n\u001b[0m\u001b[0;32m      5\u001b[0m \u001b[1;31m# Path of where matlab files are stored\u001b[0m\u001b[1;33m\u001b[0m\u001b[1;33m\u001b[0m\u001b[1;33m\u001b[0m\u001b[0m\n\u001b[0;32m      6\u001b[0m \u001b[0meng\u001b[0m\u001b[1;33m.\u001b[0m\u001b[0maddpath\u001b[0m\u001b[1;33m(\u001b[0m\u001b[1;34m'../MatlabFiles/'\u001b[0m\u001b[1;33m)\u001b[0m\u001b[1;33m\u001b[0m\u001b[1;33m\u001b[0m\u001b[0m\n",
      "\u001b[1;31mAttributeError\u001b[0m: module 'matlab' has no attribute 'start_matlab'"
     ],
     "output_type": "error"
    }
   ],
   "source": [
    "# Files have the following format for rds: ah_Big_rds_02-Aug-2016_01data.mat\n",
    "# e.g. initials_condition_test_date_extra.mat\n",
    "\n",
    "eng = matlab.engine.start_matlab(\"-nodisplay\")\n",
    "# Path of where matlab files are stored\n",
    "eng.addpath('../MatlabFiles/')\n",
    "#Path of rds data\n",
    "DATA_RDS = '../data_rds/'\n",
    "\n",
    "#------\n",
    "# This will OVERWRITE the previous csv\n",
    "edit = 'w'\n",
    "# This will APPEND to the previous csv\n",
    "# edit = 'a'\n",
    "#------\n",
    "\n",
    "# path where csv is saved\n",
    "results = open(\"../resultsJRDS/rds-results.csv\", edit)\n",
    "writer = csv.writer(results)\n",
    "\n",
    "# Make Column names\n",
    "# Do not use if appending\n",
    "if edit == 'w':\n",
    "    writer.writerow([\"Initials\", \"Condition\", \"Date\", \"Filename\", \"Prob\", \"Bias\", \"Threshold\"])\n",
    "\n",
    "files = os.listdir(DATA_RDS)\n",
    "i = 1\n",
    "for file in files:\n",
    "    print(\"Progress: {}%\".format(int(i/len(files) * 100)))\n",
    "    clear_output(wait=True)\n",
    "    if file.endswith('.mat'):\n",
    "        split = file.split('_')\n",
    "        initials, condition, date = split[0].lower(), split[1], split[3]\n",
    "        data = eng.analyzeJRDS(DATA_RDS + file, nargout=3)\n",
    "        writer.writerow([initials.strip(), condition, date, file, data[0][0], data[1], data[2]])\n",
    "    i += 1\n",
    "        \n",
    "results.close()\n",
    "eng.quit()"
   ]
  },
  {
   "cell_type": "code",
   "execution_count": 4,
   "metadata": {
    "collapsed": true
   },
   "outputs": [
    {
     "name": "stdout",
     "output_type": "stream",
     "text": [
      "3.6.7 (v3.6.7:6ec5cf24b7, Oct 20 2018, 13:35:33) [MSC v.1900 64 bit (AMD64)]\n"
     ]
    }
   ],
   "source": [
    "import sys\n",
    "print(sys.version)"
   ]
  },
  {
   "cell_type": "code",
   "execution_count": null,
   "metadata": {},
   "outputs": [],
   "source": []
  }
 ],
 "metadata": {
  "kernelspec": {
   "display_name": "Python 2",
   "language": "python",
   "name": "python2"
  },
  "language_info": {
   "codemirror_mode": {
    "name": "ipython",
    "version": 2
   },
   "file_extension": ".py",
   "mimetype": "text/x-python",
   "name": "python",
   "nbconvert_exporter": "python",
   "pygments_lexer": "ipython2",
   "version": "2.7.13"
  }
 },
 "nbformat": 4,
 "nbformat_minor": 2
}
