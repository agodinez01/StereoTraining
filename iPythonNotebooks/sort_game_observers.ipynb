{
 "cells": [
  {
   "cell_type": "markdown",
   "metadata": {},
   "source": [
    "# Sort Game Observers\n",
    "Makes copies of data in \"Oculus Data\" directory and copies to \"GameObservers\" directory. In \"GameObservers\", each observer has a folder with their initials, and in each there is a \"Halloween\" and \"DartBoard\" subdirectory."
   ]
  },
  {
   "cell_type": "code",
   "execution_count": 10,
   "metadata": {
    "collapsed": true
   },
   "outputs": [],
   "source": [
    "# Which folders to look through\n",
    "FOLDERS = [\"../Oculus Data/session1to10/\", \n",
    "           \"../Oculus Data/session11to20/\",\n",
    "           \"../Oculus Data/session21to30/\", \n",
    "           \"../Oculus Data/session31to40/\", \n",
    "           \"../Oculus Data/Pilot Results/\"]\n",
    "\n",
    "# New path for data\n",
    "NEW_PATH = \"../GameObservers/\"\n",
    "HALLWN = \"/Halloween/\"\n",
    "DART = \"/DartBoard/\""
   ]
  },
  {
   "cell_type": "code",
   "execution_count": 11,
   "metadata": {
    "collapsed": true
   },
   "outputs": [],
   "source": [
    "import os\n",
    "from shutil import copy"
   ]
  },
  {
   "cell_type": "code",
   "execution_count": 12,
   "metadata": {},
   "outputs": [
    {
     "ename": "FileNotFoundError",
     "evalue": "[Errno 2] No such file or directory: '../Oculus Data/session1to10/'",
     "traceback": [
      "\u001b[0;31m---------------------------------------------------------------------------\u001b[0m",
      "\u001b[0;31mFileNotFoundError\u001b[0m                         Traceback (most recent call last)",
      "\u001b[0;32m<ipython-input-12-2d9b625955d6>\u001b[0m in \u001b[0;36m<module>\u001b[0;34m\u001b[0m\n\u001b[1;32m      1\u001b[0m \u001b[0;32mfor\u001b[0m \u001b[0mpath\u001b[0m \u001b[0;32min\u001b[0m \u001b[0mFOLDERS\u001b[0m\u001b[0;34m:\u001b[0m\u001b[0;34m\u001b[0m\u001b[0m\n\u001b[0;32m----> 2\u001b[0;31m     \u001b[0;32mfor\u001b[0m \u001b[0mobs\u001b[0m \u001b[0;32min\u001b[0m \u001b[0mos\u001b[0m\u001b[0;34m.\u001b[0m\u001b[0mlistdir\u001b[0m\u001b[0;34m(\u001b[0m\u001b[0mpath\u001b[0m\u001b[0;34m)\u001b[0m\u001b[0;34m:\u001b[0m\u001b[0;34m\u001b[0m\u001b[0m\n\u001b[0m\u001b[1;32m      3\u001b[0m         \u001b[0;32mif\u001b[0m \u001b[0mlen\u001b[0m\u001b[0;34m(\u001b[0m\u001b[0mobs\u001b[0m\u001b[0;34m)\u001b[0m \u001b[0;34m>\u001b[0m \u001b[0;36m2\u001b[0m\u001b[0;34m:\u001b[0m\u001b[0;34m\u001b[0m\u001b[0m\n\u001b[1;32m      4\u001b[0m             \u001b[0;32mcontinue\u001b[0m\u001b[0;34m\u001b[0m\u001b[0m\n\u001b[1;32m      5\u001b[0m         \u001b[0mnew_hallwn\u001b[0m \u001b[0;34m=\u001b[0m \u001b[0mNEW_PATH\u001b[0m \u001b[0;34m+\u001b[0m \u001b[0mobs\u001b[0m \u001b[0;34m+\u001b[0m \u001b[0mHALLWN\u001b[0m\u001b[0;34m\u001b[0m\u001b[0m\n",
      "\u001b[0;31mFileNotFoundError\u001b[0m: [Errno 2] No such file or directory: '../Oculus Data/session1to10/'"
     ],
     "output_type": "error"
    }
   ],
   "source": [
    "for path in FOLDERS:\n",
    "    for obs in os.listdir(path):\n",
    "        if len(obs) > 2:\n",
    "            continue\n",
    "        new_hallwn = NEW_PATH + obs + HALLWN\n",
    "        new_dart = NEW_PATH + obs + DART\n",
    "        if not os.path.exists(new_hallwn):\n",
    "            os.makedirs(new_hallwn)\n",
    "        if not os.path.exists(new_dart):\n",
    "            os.makedirs(new_dart)\n",
    "        for file in os.listdir( path + obs):\n",
    "            if not file.endswith(\".csv\"):\n",
    "                continue\n",
    "            name = file.split(\"_\")[0]\n",
    "            curr = path + obs + \"/\" + file\n",
    "            if name == \"results\":\n",
    "                copy(curr, new_dart)\n",
    "            elif name == \"resultsHalloween\":\n",
    "                copy(curr, new_hallwn)"
   ]
  },
  {
   "cell_type": "code",
   "execution_count": null,
   "metadata": {
    "collapsed": true
   },
   "outputs": [],
   "source": []
  },
  {
   "cell_type": "code",
   "execution_count": null,
   "metadata": {},
   "outputs": [],
   "source": []
  }
 ],
 "metadata": {
  "kernelspec": {
   "display_name": "Python 3",
   "language": "python",
   "name": "python3"
  },
  "language_info": {
   "codemirror_mode": {
    "name": "ipython",
    "version": 3
   },
   "file_extension": ".py",
   "mimetype": "text/x-python",
   "name": "python",
   "nbconvert_exporter": "python",
   "pygments_lexer": "ipython3",
   "version": "3.5.3"
  }
 },
 "nbformat": 4,
 "nbformat_minor": 2
}
