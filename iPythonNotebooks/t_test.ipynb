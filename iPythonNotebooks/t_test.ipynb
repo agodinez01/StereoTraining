{
 "cells": [
  {
   "cell_type": "code",
   "execution_count": 16,
   "metadata": {},
   "outputs": [],
   "source": [
    "import os\n",
    "import scipy.stats as stats\n",
    "import pandas as pd"
   ]
  },
  {
   "cell_type": "code",
   "execution_count": 17,
   "metadata": {
    "collapsed": true
   },
   "outputs": [],
   "source": [
    "### all the determined variables\n",
    "main_dir = \"../GameObservers/\"\n",
    "sub_dir = \"/DartBoard/\"\n",
    "result_dir = \"../graphs/histogram/\"\n",
    "control = set(['ah', 'dd', 'ez', 'll', 'sm', 'sr'])\n",
    "exper = set(['bb', 'by', 'gn', 'gp', 'ni', 'et'])"
   ]
  },
  {
   "cell_type": "code",
   "execution_count": 18,
   "metadata": {
    "collapsed": true
   },
   "outputs": [],
   "source": [
    "def get_vals(obs_set):\n",
    "    result = []\n",
    "    for obs in obs_set:\n",
    "        path = main_dir + obs + sub_dir\n",
    "        for data in os.listdir(path):\n",
    "            if not data.endswith('.csv'):\n",
    "                continue\n",
    "            df = pd.read_csv(path + data)\n",
    "            result.extend(df[\"SA[seconds] dartboard hit\"][(df[\"hit\"] == True) & (df[\"SA[seconds] dartboard hit\"] > 50)])\n",
    "    return result"
   ]
  },
  {
   "cell_type": "code",
   "execution_count": 19,
   "metadata": {},
   "outputs": [
    {
     "data": {
      "text/plain": [
       "RanksumsResult(statistic=-77.940596107851604, pvalue=0.0)"
      ]
     },
     "execution_count": 19,
     "metadata": {},
     "output_type": "execute_result"
    }
   ],
   "source": [
    "control_vals =  get_vals(control)\n",
    "exper_vals = get_vals(exper)\n",
    "stats.ranksums(control_vals, exper_vals)"
   ]
  },
  {
   "cell_type": "code",
   "execution_count": null,
   "metadata": {
    "collapsed": true
   },
   "outputs": [],
   "source": []
  }
 ],
 "metadata": {
  "kernelspec": {
   "display_name": "Python 3",
   "language": "python",
   "name": "python3"
  },
  "language_info": {
   "codemirror_mode": {
    "name": "ipython",
    "version": 3
   },
   "file_extension": ".py",
   "mimetype": "text/x-python",
   "name": "python",
   "nbconvert_exporter": "python",
   "pygments_lexer": "ipython3",
   "version": "3.6.8"
  }
 },
 "nbformat": 4,
 "nbformat_minor": 2
}
