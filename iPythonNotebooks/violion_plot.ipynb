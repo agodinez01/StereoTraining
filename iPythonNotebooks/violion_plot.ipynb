{
 "cells": [
  {
   "cell_type": "markdown",
   "metadata": {},
   "source": [
    "# Violin Plots"
   ]
  },
  {
   "cell_type": "code",
   "execution_count": 1,
   "metadata": {},
   "outputs": [],
   "source": [
    "%matplotlib inline\n",
    "import matplotlib.pyplot as plt\n",
    "import os\n",
    "import pandas as pd\n",
    "import seaborn as sns"
   ]
  },
  {
   "cell_type": "code",
   "execution_count": 2,
   "metadata": {},
   "outputs": [],
   "source": [
    "### all the determined variables\n",
    "main_dir = \"../GameObservers/\"\n",
    "sub_dir = \"/DartBoard/\"\n",
    "result_dir = \"../graphs/violin/\"\n",
    "control = set(['ah', 'aj', 'dd', 'dl', 'ez', 'it', 'll', 'sh', 'sm', 'sr'])\n",
    "exper = set(['bb', 'by', 'co', 'et', 'gn', 'gp', 'jz', 'kp', 'ky', 'mb', 'mg', 'ni', 'tp'])"
   ]
  },
  {
   "cell_type": "markdown",
   "metadata": {},
   "source": [
    "## Gets y values for violin plot"
   ]
  },
  {
   "cell_type": "code",
   "execution_count": 3,
   "metadata": {},
   "outputs": [],
   "source": [
    "\n",
    "def get_yvals(obs_set, diff):\n",
    "    result = []\n",
    "    for obs in obs_set:\n",
    "        path = main_dir + obs + sub_dir\n",
    "        for data in os.listdir(path):\n",
    "            if not data.endswith('.csv'):\n",
    "                continue\n",
    "            df = pd.read_csv(path + data)\n",
    "            if diff == 0:\n",
    "                result.extend(df[\"SA[seconds] dartboard hit\"][(df[\"hit\"] == True) & (df[\"SA[seconds] dartboard hit\"] > 50)])\n",
    "            else:\n",
    "                result.extend(df[\"SA[seconds] dartboard hit\"][(df[\"hit\"] == True) \n",
    "                                                              & (df[\"SA[seconds] dartboard hit\"] > 50)\n",
    "                                                             & (df[\"Difficulty\"] == diff)])\n",
    "    return result"
   ]
  },
  {
   "cell_type": "code",
   "execution_count": 4,
   "metadata": {},
   "outputs": [],
   "source": [
    "#data = []\n",
    "#for d in result.Difficulty:\n",
    "#    data.append(get_yvals(exper,d))\n",
    "#    data.append(get_yvals(control,d))\n",
    "#return data"
   ]
  },
  {
   "cell_type": "code",
   "execution_count": null,
   "metadata": {},
   "outputs": [],
   "source": []
  },
  {
   "cell_type": "code",
   "execution_count": null,
   "metadata": {},
   "outputs": [],
   "source": []
  },
  {
   "cell_type": "markdown",
   "metadata": {},
   "source": [
    "## Plots data in violin plot"
   ]
  },
  {
   "cell_type": "code",
   "execution_count": 17,
   "metadata": {},
   "outputs": [],
   "source": [
    "def make_box(pos, difficulties, name, fontsize):\n",
    "    data = []\n",
    "    for d in difficulties:\n",
    "        data.append(get_yvals(exper, d))\n",
    "        data.append(get_yvals(control, d))\n",
    "#     data = [get_yvals(exper), get_yvals(control)]\n",
    "\n",
    "    fig = plt.figure()\n",
    "    ax = plt.gca()\n",
    "\n",
    "    # fig, axes = plt.subplots(nrows=1, ncols=3, figsize=(6, 6))\n",
    "    # fig, axes = plt.figure()\n",
    "\n",
    "    p = plt.boxplot(data, pos, showbox=True, whis=[25, 75], showfliers=True, patch_artist=True)\n",
    "    #sns.boxplot(data)\n",
    "    color = ['r', 'b'] * len(difficulties)\n",
    "    i = 0\n",
    "    patches = []\n",
    "    for x in p['boxes']:\n",
    "        x.set_facecolor(color[i])\n",
    "        x.set_alpha(0.5)\n",
    "        patches.append(x)\n",
    "        i += 1\n",
    "    if len(difficulties) == 1:\n",
    "        plt.xticks(pos, ['Experimental', 'Control'], fontsize=fontsize)\n",
    "    else:\n",
    "        plt.xticks([2, 6, 10], ['Natural', 'Advanced', 'Expert'], fontsize=fontsize)        \n",
    "        label = ['Experimental','Control']\n",
    "        ax.legend(patches, label)\n",
    "\n",
    "    ax.set_yscale('log')\n",
    "\n",
    "#     ax.tick_params(axis='x', which='major', pad=15*len(difficulties))\n",
    "\n",
    "    \n",
    "    ax.set_ylabel('Stereo Acuity (arc seconds)', labelpad=10, fontsize=14)\n",
    "\n",
    "    fig.savefig(result_dir + name, bbox_inches='tight', format='pdf', dpi=1000)\n",
    "    plt.close(fig)"
   ]
  },
  {
   "cell_type": "markdown",
   "metadata": {
    "collapsed": true
   },
   "source": [
    "## Make violin plot for aggregate Experimental vs Control"
   ]
  },
  {
   "cell_type": "code",
   "execution_count": 18,
   "metadata": {},
   "outputs": [],
   "source": [
    "make_box([1, 2], [0], 'box_aggregate.pdf', 14)"
   ]
  },
  {
   "cell_type": "markdown",
   "metadata": {},
   "source": [
    "## Make violin plot by difficulty for Experimental vs Control"
   ]
  },
  {
   "cell_type": "code",
   "execution_count": 8,
   "metadata": {},
   "outputs": [],
   "source": [
    "make_box([1,3,5,7,9,11], [1, 2, 3], 'box_difficulty.pdf', 14)\n"
   ]
  },
  {
   "cell_type": "code",
   "execution_count": 9,
   "metadata": {},
   "outputs": [
    {
     "data": {
      "text/plain": [
       "99475"
      ]
     },
     "execution_count": 9,
     "metadata": {},
     "output_type": "execute_result"
    }
   ],
   "source": []
  },
  {
   "cell_type": "code",
   "execution_count": null,
   "metadata": {},
   "outputs": [],
   "source": []
  }
 ],
 "metadata": {
  "kernelspec": {
   "display_name": "Python 3",
   "language": "python",
   "name": "python3"
  },
  "language_info": {
   "codemirror_mode": {
    "name": "ipython",
    "version": 3
   },
   "file_extension": ".py",
   "mimetype": "text/x-python",
   "name": "python",
   "nbconvert_exporter": "python",
   "pygments_lexer": "ipython3",
   "version": "3.6.8"
  }
 },
 "nbformat": 4,
 "nbformat_minor": 2
}
